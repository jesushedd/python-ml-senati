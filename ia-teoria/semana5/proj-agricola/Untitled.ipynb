{
 "cells": [
  {
   "cell_type": "code",
   "execution_count": 9,
   "id": "2bb4f6f8-fba2-43dd-b9b4-4bf47ef61a4d",
   "metadata": {},
   "outputs": [],
   "source": [
    "import openpyxl\n",
    "import csv\n",
    "import pandas as pd\n",
    "\n",
    "\n",
    "def libro_excel_a_csvs(str_path):\n",
    "\n",
    "    excel = openpyxl.load_workbook(str_path)\n",
    "    for sheet in excel:\n",
    "        with open(\"csv_pandas.csv\", 'w', newline=\"\") as f:\n",
    "            writer = csv.writer(f)\n",
    "        \n",
    "            for row in sheet.rows:\n",
    "                writer.writerow([cell.value for cell in row])\n"
   ]
  },
  {
   "cell_type": "code",
   "execution_count": 10,
   "id": "e95e230c-98a7-4df8-94b5-fb43e5a34707",
   "metadata": {},
   "outputs": [],
   "source": [
    "libro_excel_a_csvs('producion_distritos_2022.xlsx')"
   ]
  },
  {
   "cell_type": "code",
   "execution_count": null,
   "id": "4bff5226-f7e9-4174-a530-0d288bb0c56b",
   "metadata": {},
   "outputs": [],
   "source": []
  }
 ],
 "metadata": {
  "kernelspec": {
   "display_name": "Python 3 (ipykernel)",
   "language": "python",
   "name": "python3"
  },
  "language_info": {
   "codemirror_mode": {
    "name": "ipython",
    "version": 3
   },
   "file_extension": ".py",
   "mimetype": "text/x-python",
   "name": "python",
   "nbconvert_exporter": "python",
   "pygments_lexer": "ipython3",
   "version": "3.13.2"
  }
 },
 "nbformat": 4,
 "nbformat_minor": 5
}
