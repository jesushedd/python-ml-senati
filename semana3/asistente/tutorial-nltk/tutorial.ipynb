{
 "cells": [
  {
   "cell_type": "code",
   "execution_count": 1,
   "id": "2d1e3b6b-9539-480a-a87f-d68a962553f7",
   "metadata": {},
   "outputs": [
    {
     "name": "stdout",
     "output_type": "stream",
     "text": [
      "NLTK Downloader\n",
      "---------------------------------------------------------------------------\n",
      "    d) Download   l) List    u) Update   c) Config   h) Help   q) Quit\n",
      "---------------------------------------------------------------------------\n"
     ]
    },
    {
     "name": "stdin",
     "output_type": "stream",
     "text": [
      "Downloader>  \n"
     ]
    },
    {
     "name": "stdout",
     "output_type": "stream",
     "text": [
      "\n",
      "---------------------------------------------------------------------------\n",
      "    d) Download   l) List    u) Update   c) Config   h) Help   q) Quit\n",
      "---------------------------------------------------------------------------\n"
     ]
    },
    {
     "name": "stdin",
     "output_type": "stream",
     "text": [
      "Downloader>  \n"
     ]
    },
    {
     "name": "stdout",
     "output_type": "stream",
     "text": [
      "\n",
      "---------------------------------------------------------------------------\n",
      "    d) Download   l) List    u) Update   c) Config   h) Help   q) Quit\n",
      "---------------------------------------------------------------------------\n"
     ]
    },
    {
     "name": "stdin",
     "output_type": "stream",
     "text": [
      "Downloader>  \n"
     ]
    },
    {
     "name": "stdout",
     "output_type": "stream",
     "text": [
      "\n",
      "---------------------------------------------------------------------------\n",
      "    d) Download   l) List    u) Update   c) Config   h) Help   q) Quit\n",
      "---------------------------------------------------------------------------\n"
     ]
    },
    {
     "name": "stdin",
     "output_type": "stream",
     "text": [
      "Downloader>  \n"
     ]
    },
    {
     "name": "stdout",
     "output_type": "stream",
     "text": [
      "\n",
      "---------------------------------------------------------------------------\n",
      "    d) Download   l) List    u) Update   c) Config   h) Help   q) Quit\n",
      "---------------------------------------------------------------------------\n"
     ]
    },
    {
     "name": "stdin",
     "output_type": "stream",
     "text": [
      "Downloader>  \n"
     ]
    },
    {
     "name": "stdout",
     "output_type": "stream",
     "text": [
      "\n",
      "---------------------------------------------------------------------------\n",
      "    d) Download   l) List    u) Update   c) Config   h) Help   q) Quit\n",
      "---------------------------------------------------------------------------\n"
     ]
    },
    {
     "name": "stdin",
     "output_type": "stream",
     "text": [
      "Downloader>  q\n"
     ]
    },
    {
     "data": {
      "text/plain": [
       "True"
      ]
     },
     "execution_count": 1,
     "metadata": {},
     "output_type": "execute_result"
    }
   ],
   "source": [
    "import nltk\n",
    "nltk.download()"
   ]
  },
  {
   "cell_type": "code",
   "execution_count": 5,
   "id": "5932e8f7-ab9c-43e7-8bee-5509da5f5749",
   "metadata": {},
   "outputs": [],
   "source": [
    "from pathlib import Path"
   ]
  },
  {
   "cell_type": "code",
   "execution_count": 6,
   "id": "9c30da62-ad7d-4393-9616-93a241c4628e",
   "metadata": {},
   "outputs": [],
   "source": [
    "home = Path('/home/victor_he/')\n",
    "nltk_data = home / 'nltk_data'"
   ]
  },
  {
   "cell_type": "code",
   "execution_count": 7,
   "id": "827738eb-1b89-4094-9e49-192e6d2a9197",
   "metadata": {},
   "outputs": [],
   "source": [
    "from nltk.book import *"
   ]
  },
  {
   "cell_type": "code",
   "execution_count": 8,
   "id": "a48fea17-eada-41ac-8cb3-9eb6773e8d5b",
   "metadata": {},
   "outputs": [
    {
     "name": "stdout",
     "output_type": "stream",
     "text": [
      "Displaying 11 of 11 matches:\n",
      "ong the former , one was of a most monstrous size . ... This came towards us , \n",
      "ON OF THE PSALMS . \" Touching that monstrous bulk of the whale or ork we have r\n",
      "ll over with a heathenish array of monstrous clubs and spears . Some were thick\n",
      "d as you gazed , and wondered what monstrous cannibal and savage could ever hav\n",
      "that has survived the flood ; most monstrous and most mountainous ! That Himmal\n",
      "they might scout at Moby Dick as a monstrous fable , or still worse and more de\n",
      "th of Radney .'\" CHAPTER 55 Of the Monstrous Pictures of Whales . I shall ere l\n",
      "ing Scenes . In connexion with the monstrous pictures of whales , I am strongly\n",
      "ere to enter upon those still more monstrous stories of them which are to be fo\n",
      "ght have been rummaged out of this monstrous cabinet there is no telling . But \n",
      "of Whale - Bones ; for Whales of a monstrous size are oftentimes cast up dead u\n"
     ]
    }
   ],
   "source": [
    "text1.concordance('monstrous')"
   ]
  },
  {
   "cell_type": "code",
   "execution_count": 9,
   "id": "2c07cf9e-8c4b-4502-9c4c-f80cc31fc034",
   "metadata": {},
   "outputs": [
    {
     "name": "stdout",
     "output_type": "stream",
     "text": [
      "Displaying 9 of 9 matches:\n",
      "yet afloat . And ever , as the white moon shows her affrighted face from the s\n",
      "ther world , more strangely than the moon would to an Earthsman . With the lan\n",
      " all tools used in the shadow of the moon , men are most apt to get out of ord\n",
      "ntoms , and asked of the sun and the moon why they were created and to what en\n",
      "e bubbles at the bow . Lit up by the moon , it looked celestial ; seemed some \n",
      "h unusual hours ; his turban and the moon , companions in one sky . But when ,\n",
      " was heard announcing that silvery , moon - lit jet , every reclining mariner \n",
      "of deserts and of griefs beneath the moon . The sun hides not the ocean , whic\n",
      "hou grinning whale ! Look ye , sun , moon , and stars ! I call ye assassins of\n"
     ]
    }
   ],
   "source": [
    "text1.concordance('moon')"
   ]
  },
  {
   "cell_type": "code",
   "execution_count": 10,
   "id": "968f1482-ef7c-47a4-82e0-25df7a1fd209",
   "metadata": {},
   "outputs": [
    {
     "name": "stdout",
     "output_type": "stream",
     "text": [
      "true contemptible christian abundant few part mean careful puzzled\n",
      "mystifying passing curious loving wise doleful gamesome singular\n",
      "delightfully perilous fearless\n"
     ]
    }
   ],
   "source": [
    "text1.similar(\"monstrous\")"
   ]
  },
  {
   "cell_type": "code",
   "execution_count": 11,
   "id": "d09df693-8a60-4d56-bb81-ef1a9871028a",
   "metadata": {},
   "outputs": [
    {
     "name": "stdout",
     "output_type": "stream",
     "text": [
      "be_glad is_pretty a_pretty am_glad a_lucky\n"
     ]
    }
   ],
   "source": [
    "text2.common_contexts(['very','monstrous'])"
   ]
  },
  {
   "cell_type": "code",
   "execution_count": 12,
   "id": "66679701-a987-4749-a3db-aa4d46eae40c",
   "metadata": {},
   "outputs": [
    {
     "name": "stdout",
     "output_type": "stream",
     "text": [
      "Displaying 25 of 60 matches:\n",
      "00 taxable funds tracked * by IBC 's Money Fund Report eased a fraction of a pe\n",
      "*-1 Brenda Malizia Negus , editor of Money Fund Report , yields `` may blip up \n",
      "stors continue *-1 to pour cash into money funds . Assets of the 400 taxable fu\n",
      "go after the highest rates . The top money funds are currently yielding well ov\n",
      "t forces investors to redeploy their money at lower rates . Second , they chann\n",
      "heless , plenty of U.S. analysts and money managers are aghast at the lofty tra\n",
      "ll face legal obstacles to * raising money in the U.S. until they settle hundre\n",
      " in September . The goverment counts money as it is spent *-53 ; Dodge counts c\n",
      "*-54 *T*-1 . The government includes money spent * on residential renovation ; \n",
      "Japan . Despite the enormous sums of money 0 they 're paid *T*-1 *-2 to stand u\n",
      "aduate School of Business . Japanese money will help *-1 turn Southeast Asia in\n",
      "r hand , bring recognition and extra money -- a new computer lab for a school ,\n",
      "teaching as a career . She won grant money for the school , advised cheerleader\n",
      "e was eager *-1 to win -- if not for money , then for pride and recognition . M\n",
      "t . Ed Macheski , a Wilton , Conn. , money manager who *T*-120 follows bank sto\n",
      "hanical engineering productivity . @ Money Market Deposits-a 6.21 % a - Average\n",
      " Co . `` I think 0 the stock is dead money for a while . '' Yesterday 's announ\n",
      "firms that *T*-154 do n't spend much money *-1 advertising and ca n't be relied\n",
      "cheduled *-106 . Unless it can raise money in financial markets , Mr. Basham sa\n",
      " with the end of the year in sight , money managers are eager *-1 to take profi\n",
      "ideas , *-1 frequently putting their money behind projects that commercial bank\n",
      "tatement 0 *T*-1 to help in * saving money . In September , Union Planters Corp\n",
      "t , a Chicago investment adviser and money manager , based on a review of six d\n",
      "f Fujitsu Ltd. , believes `` 0 the ` money worship ' among young people ... cau\n",
      "-247 's wrong with * asking for more money ? Money is not everything , but it i\n"
     ]
    }
   ],
   "source": [
    "text7.concordance('money')"
   ]
  },
  {
   "cell_type": "code",
   "execution_count": 13,
   "id": "fda4a869-7109-4c59-9cff-fbaa03fd44a1",
   "metadata": {},
   "outputs": [
    {
     "name": "stdout",
     "output_type": "stream",
     "text": [
      "the it million general capital free stocks board and industrial more\n",
      "billion men common other funds dividends assets management seats\n"
     ]
    }
   ],
   "source": [
    "text7.similar('money')"
   ]
  },
  {
   "cell_type": "code",
   "execution_count": 14,
   "id": "16d03a22-ce75-4513-b1fd-0ec0682a7e6d",
   "metadata": {},
   "outputs": [
    {
     "name": "stdout",
     "output_type": "stream",
     "text": [
      "high company plant one place slide interest share holding transaction\n",
      "house fall dinner decline drop purchase fledgling presence priority\n",
      "lawyer\n"
     ]
    }
   ],
   "source": [
    "text7.similar('profession')"
   ]
  },
  {
   "cell_type": "code",
   "execution_count": 15,
   "id": "671ce95a-8fa0-42e6-87a8-c4be425c5294",
   "metadata": {},
   "outputs": [
    {
     "name": "stdout",
     "output_type": "stream",
     "text": [
      "No common contexts were found\n"
     ]
    }
   ],
   "source": [
    "text7.common_contexts(['profession','money'])"
   ]
  },
  {
   "cell_type": "code",
   "execution_count": 16,
   "id": "cd1d91d8-7b0f-43a3-8340-64c92b599176",
   "metadata": {},
   "outputs": [
    {
     "name": "stderr",
     "output_type": "stream",
     "text": [
      "/home/victor_he/Escritorio/semana3/asistente/.env/lib64/python3.13/site-packages/nltk/draw/__init__.py:15: UserWarning: nltk.draw package not loaded (please install Tkinter library).\n",
      "  warnings.warn(\"nltk.draw package not loaded (please install Tkinter library).\")\n"
     ]
    },
    {
     "data": {
      "image/png": "[encoded data removed]",
      "text/plain": [
       "<Figure size 640x480 with 1 Axes>"
      ]
     },
     "metadata": {},
     "output_type": "display_data"
    }
   ],
   "source": [
    "text4.dispersion_plot([\"citizens\", \"democracy\", \"freedom\", \"duties\", \"America\"])"
   ]
  },
  {
   "cell_type": "code",
   "execution_count": 17,
   "id": "ebb82eeb-23d6-4269-a891-1ae651dee5fe",
   "metadata": {},
   "outputs": [
    {
     "name": "stderr",
     "output_type": "stream",
     "text": [
      "[nltk_data] Downloading package punkt_tab to\n",
      "[nltk_data]     /home/victor_he/nltk_data...\n",
      "[nltk_data]   Package punkt_tab is already up-to-date!\n"
     ]
    },
    {
     "data": {
      "text/plain": [
       "True"
      ]
     },
     "execution_count": 17,
     "metadata": {},
     "output_type": "execute_result"
    }
   ],
   "source": [
    "nltk.download('punkt_tab')"
   ]
  },
  {
   "cell_type": "code",
   "execution_count": 18,
   "id": "a422f4b2-e3a1-4c03-8c84-f34f8a265066",
   "metadata": {},
   "outputs": [
    {
     "name": "stderr",
     "output_type": "stream",
     "text": [
      "Building ngram index...\n"
     ]
    },
    {
     "name": "stdout",
     "output_type": "stream",
     "text": [
      "has *-2 to close at 2645.90 in moderate trading , a large addition or\n",
      "subtraction to a new public spirit for school betterment . *-1 to beat\n",
      "the tests themselves that critics say 0 Columbia 's junk problems\n",
      "*T*-1 . Sea Containers is still : ` * Buy , ' '' he said *T*-2 Mr.\n",
      "Guffey , `` and I 'm afraid 0 I reached *T*-1 . After the first 0 it\n",
      "believes 0 the Big Board 's leadership -- over the next 12 months --\n",
      "vs. a `` reckless course of action '' for President Bush must decide\n",
      "whether\n"
     ]
    },
    {
     "data": {
      "text/plain": [
       "\"has *-2 to close at 2645.90 in moderate trading , a large addition or\\nsubtraction to a new public spirit for school betterment . *-1 to beat\\nthe tests themselves that critics say 0 Columbia 's junk problems\\n*T*-1 . Sea Containers is still : ` * Buy , ' '' he said *T*-2 Mr.\\nGuffey , `` and I 'm afraid 0 I reached *T*-1 . After the first 0 it\\nbelieves 0 the Big Board 's leadership -- over the next 12 months --\\nvs. a `` reckless course of action '' for President Bush must decide\\nwhether\""
      ]
     },
     "execution_count": 18,
     "metadata": {},
     "output_type": "execute_result"
    }
   ],
   "source": [
    "text7.generate()"
   ]
  },
  {
   "cell_type": "code",
   "execution_count": 19,
   "id": "6ed2575d-54d0-4ee2-aca4-0880805345bc",
   "metadata": {},
   "outputs": [
    {
     "data": {
      "text/plain": [
       "12408"
      ]
     },
     "execution_count": 19,
     "metadata": {},
     "output_type": "execute_result"
    }
   ],
   "source": [
    "len(set(text7))"
   ]
  },
  {
   "cell_type": "code",
   "execution_count": 20,
   "id": "9e8d88c3-dbe4-46fe-a008-fb52631db16e",
   "metadata": {},
   "outputs": [
    {
     "data": {
      "text/plain": [
       "10200"
      ]
     },
     "execution_count": 20,
     "metadata": {},
     "output_type": "execute_result"
    }
   ],
   "source": [
    "len(set(text4))"
   ]
  },
  {
   "cell_type": "code",
   "execution_count": 21,
   "id": "9096165f-2f77-4c40-9792-9dfdd7554cc4",
   "metadata": {},
   "outputs": [
    {
     "data": {
      "text/plain": [
       "0.1276595744680851"
      ]
     },
     "execution_count": 21,
     "metadata": {},
     "output_type": "execute_result"
    }
   ],
   "source": [
    "len(set(text6)) / len(text6)"
   ]
  },
  {
   "cell_type": "code",
   "execution_count": 22,
   "id": "2eef1ff9-0ad5-45f5-955a-437eb08e133c",
   "metadata": {},
   "outputs": [],
   "source": [
    "def porcentaje_palabra(palabra:str, texto):\n",
    "    print(texto)\n",
    "    perc = 100 * texto.count(palabra) / len(texto)\n",
    "    print(f'La palabra {palabra} aparece un {perc}%')"
   ]
  },
  {
   "cell_type": "code",
   "execution_count": 23,
   "id": "05ff0fb9-969c-478c-8beb-d30d93b0d77c",
   "metadata": {},
   "outputs": [
    {
     "name": "stdout",
     "output_type": "stream",
     "text": [
      "<Text: The Book of Genesis>\n",
      "La palabra smote aparece un 0.01116968992940756%\n"
     ]
    }
   ],
   "source": [
    "porcentaje_palabra('smote',text3)"
   ]
  },
  {
   "cell_type": "code",
   "execution_count": 28,
   "id": "0afd6621-55c0-44aa-b223-5ac40e0f7232",
   "metadata": {},
   "outputs": [
    {
     "name": "stdout",
     "output_type": "stream",
     "text": [
      "text1: Moby Dick by Herman Melville 1851\n",
      "text2: Sense and Sensibility by Jane Austen 1811\n",
      "text3: The Book of Genesis\n",
      "text4: Inaugural Address Corpus\n",
      "text5: Chat Corpus\n",
      "text6: Monty Python and the Holy Grail\n",
      "text7: Wall Street Journal\n",
      "text8: Personals Corpus\n",
      "text9: The Man Who Was Thursday by G . K . Chesterton 1908\n"
     ]
    }
   ],
   "source": [
    "texts()"
   ]
  },
  {
   "cell_type": "code",
   "execution_count": 29,
   "id": "c4c705b6-b5ee-4b28-a5ee-908c148b2495",
   "metadata": {},
   "outputs": [],
   "source": [
    "texts_all = text1, text2, text3, text4, text5, text6, text7, text8, text9"
   ]
  },
  {
   "cell_type": "code",
   "execution_count": 30,
   "id": "57fc3a94-b71f-49b6-bb5a-e11ad2ac81db",
   "metadata": {},
   "outputs": [],
   "source": [
    "def porcentaje_palabra_todos_textos(palabra:str):\n",
    "    for t in texts_all:\n",
    "        porcentaje_palabra(palabra, t)"
   ]
  },
  {
   "cell_type": "code",
   "execution_count": 31,
   "id": "0af9d4a8-3723-49f0-9b6d-28b269aeb2da",
   "metadata": {},
   "outputs": [
    {
     "name": "stdout",
     "output_type": "stream",
     "text": [
      "<Text: Moby Dick by Herman Melville 1851>\n",
      "La palabra smote aparece un 0.001917038252581292%\n",
      "<Text: Sense and Sensibility by Jane Austen 1811>\n",
      "La palabra smote aparece un 0.0%\n",
      "<Text: The Book of Genesis>\n",
      "La palabra smote aparece un 0.01116968992940756%\n",
      "<Text: Inaugural Address Corpus>\n",
      "La palabra smote aparece un 0.0%\n",
      "<Text: Chat Corpus>\n",
      "La palabra smote aparece un 0.0%\n",
      "<Text: Monty Python and the Holy Grail>\n",
      "La palabra smote aparece un 0.0%\n",
      "<Text: Wall Street Journal>\n",
      "La palabra smote aparece un 0.0%\n",
      "<Text: Personals Corpus>\n",
      "La palabra smote aparece un 0.0%\n",
      "<Text: The Man Who Was Thursday by G . K . Chesterton 1908>\n",
      "La palabra smote aparece un 0.0%\n"
     ]
    }
   ],
   "source": [
    "porcentaje_palabra_todos_textos('smote')"
   ]
  },
  {
   "cell_type": "code",
   "execution_count": 34,
   "id": "013d0fad-1654-4899-b0e4-38b991b42e1e",
   "metadata": {},
   "outputs": [
    {
     "name": "stdout",
     "output_type": "stream",
     "text": [
      "<Text: Moby Dick by Herman Melville 1851>\n",
      "La palabra a aparece un 1.7517895552087845%\n",
      "<Text: Sense and Sensibility by Jane Austen 1811>\n",
      "La palabra a aparece un 1.443041193422614%\n",
      "<Text: The Book of Genesis>\n",
      "La palabra a aparece un 0.7640067911714771%\n",
      "<Text: Inaugural Address Corpus>\n",
      "La palabra a aparece un 1.4569256756756757%\n",
      "<Text: Chat Corpus>\n",
      "La palabra a aparece un 1.261941790713175%\n",
      "<Text: Monty Python and the Holy Grail>\n",
      "La palabra a aparece un 1.10803324099723%\n",
      "<Text: Wall Street Journal>\n",
      "La palabra a aparece un 1.8653899638444118%\n",
      "<Text: Personals Corpus>\n",
      "La palabra a aparece un 1.068419971234847%\n",
      "<Text: The Man Who Was Thursday by G . K . Chesterton 1908>\n",
      "La palabra a aparece un 2.4749685752676522%\n"
     ]
    }
   ],
   "source": [
    "porcentaje_palabra_todos_textos('a')"
   ]
  },
  {
   "cell_type": "code",
   "execution_count": 38,
   "id": "9d7cb501-babb-4c29-91d4-98efb2467e65",
   "metadata": {},
   "outputs": [
    {
     "data": {
      "text/plain": [
       "FreqDist({',': 18713, 'the': 13721, '.': 6862, 'of': 6536, 'and': 6024, 'a': 4569, 'to': 4542, ';': 4072, 'in': 3916, 'that': 2982, ...})"
      ]
     },
     "execution_count": 38,
     "metadata": {},
     "output_type": "execute_result"
    }
   ],
   "source": [
    "fdist1 = FreqDist(text1)\n",
    "fdist1"
   ]
  },
  {
   "cell_type": "code",
   "execution_count": 41,
   "id": "25e3850f-adf4-4484-8346-be26f22fe674",
   "metadata": {},
   "outputs": [
    {
     "data": {
      "text/plain": [
       "[(',', 18713),\n",
       " ('the', 13721),\n",
       " ('.', 6862),\n",
       " ('of', 6536),\n",
       " ('and', 6024),\n",
       " ('a', 4569),\n",
       " ('to', 4542),\n",
       " (';', 4072),\n",
       " ('in', 3916),\n",
       " ('that', 2982),\n",
       " (\"'\", 2684),\n",
       " ('-', 2552),\n",
       " ('his', 2459),\n",
       " ('it', 2209),\n",
       " ('I', 2124),\n",
       " ('s', 1739),\n",
       " ('is', 1695),\n",
       " ('he', 1661),\n",
       " ('with', 1659),\n",
       " ('was', 1632),\n",
       " ('as', 1620),\n",
       " ('\"', 1478),\n",
       " ('all', 1462),\n",
       " ('for', 1414),\n",
       " ('this', 1280),\n",
       " ('!', 1269),\n",
       " ('at', 1231),\n",
       " ('by', 1137),\n",
       " ('but', 1113),\n",
       " ('not', 1103),\n",
       " ('--', 1070),\n",
       " ('him', 1058),\n",
       " ('from', 1052),\n",
       " ('be', 1030),\n",
       " ('on', 1005),\n",
       " ('so', 918),\n",
       " ('whale', 906),\n",
       " ('one', 889),\n",
       " ('you', 841),\n",
       " ('had', 767),\n",
       " ('have', 760),\n",
       " ('there', 715),\n",
       " ('But', 705),\n",
       " ('or', 697),\n",
       " ('were', 680),\n",
       " ('now', 646),\n",
       " ('which', 640),\n",
       " ('?', 637),\n",
       " ('me', 627),\n",
       " ('like', 624)]"
      ]
     },
     "execution_count": 41,
     "metadata": {},
     "output_type": "execute_result"
    }
   ],
   "source": [
    "fdist1.most_common(50)"
   ]
  },
  {
   "cell_type": "code",
   "execution_count": 48,
   "id": "a61b0069-b1ac-48f7-9e87-a8012806ed24",
   "metadata": {},
   "outputs": [
    {
     "data": {
      "text/plain": [
       "<Axes: xlabel='Samples', ylabel='Cumulative Counts'>"
      ]
     },
     "execution_count": 48,
     "metadata": {},
     "output_type": "execute_result"
    },
    {
     "data": {
      "image/png": "[encoded data removed]",
      "text/plain": [
       "<Figure size 640x480 with 1 Axes>"
      ]
     },
     "metadata": {},
     "output_type": "display_data"
    }
   ],
   "source": [
    "fdist1.plot(50, cumulative=True)"
   ]
  },
  {
   "cell_type": "code",
   "execution_count": 47,
   "id": "ec3900eb-6a0e-48f4-992b-16a4007d4c8e",
   "metadata": {},
   "outputs": [
    {
     "data": {
      "text/plain": [
       "<Axes: xlabel='Samples', ylabel='Counts'>"
      ]
     },
     "execution_count": 47,
     "metadata": {},
     "output_type": "execute_result"
    },
    {
     "data": {
      "image/png": "[encoded data removed]",
      "text/plain": [
       "<Figure size 640x480 with 1 Axes>"
      ]
     },
     "metadata": {},
     "output_type": "display_data"
    }
   ],
   "source": [
    "fdist1.plot(10, cumulative=False)"
   ]
  },
  {
   "cell_type": "code",
   "execution_count": 49,
   "id": "ab475df5-3cb9-43eb-9c5c-23199ee1b371",
   "metadata": {},
   "outputs": [],
   "source": [
    "V = set(text1)"
   ]
  },
  {
   "cell_type": "code",
   "execution_count": 51,
   "id": "d2c3d4ed-af38-44de-bddb-5212ad3db93c",
   "metadata": {},
   "outputs": [
    {
     "data": {
      "text/plain": [
       "['CIRCUMNAVIGATION',\n",
       " 'Physiognomically',\n",
       " 'apprehensiveness',\n",
       " 'cannibalistically',\n",
       " 'characteristically',\n",
       " 'circumnavigating',\n",
       " 'circumnavigation',\n",
       " 'circumnavigations',\n",
       " 'comprehensiveness',\n",
       " 'hermaphroditical',\n",
       " 'indiscriminately',\n",
       " 'indispensableness',\n",
       " 'irresistibleness',\n",
       " 'physiognomically',\n",
       " 'preternaturalness',\n",
       " 'responsibilities',\n",
       " 'simultaneousness',\n",
       " 'subterraneousness',\n",
       " 'supernaturalness',\n",
       " 'superstitiousness',\n",
       " 'uncomfortableness',\n",
       " 'uncompromisedness',\n",
       " 'undiscriminating',\n",
       " 'uninterpenetratingly']"
      ]
     },
     "execution_count": 51,
     "metadata": {},
     "output_type": "execute_result"
    }
   ],
   "source": [
    "long_words = [w for w in V if len(w) > 15]\n",
    "sorted(long_words)"
   ]
  },
  {
   "cell_type": "code",
   "execution_count": 52,
   "id": "04a8ea30-de78-425b-94e4-38eedb0dfeb7",
   "metadata": {},
   "outputs": [],
   "source": [
    "def buscar_palabras_largas(texto):\n",
    "    V = set(texto)\n",
    "    long_words = [w for w in V if len(w) > 15]\n",
    "    return sorted(long_words)\n",
    "    "
   ]
  },
  {
   "cell_type": "code",
   "execution_count": 63,
   "id": "9d8c8fdd-f16d-45b4-b9db-24fe847f723a",
   "metadata": {},
   "outputs": [
    {
     "data": {
      "text/plain": [
       "['RESPONSIBILITIES',\n",
       " 'antiphilosophists',\n",
       " 'constitutionally',\n",
       " 'contradistinction',\n",
       " 'discountenancing',\n",
       " 'disqualification',\n",
       " 'enthusiastically',\n",
       " 'instrumentalities',\n",
       " 'internationality',\n",
       " 'irresponsibility',\n",
       " 'misappropriation',\n",
       " 'misrepresentation',\n",
       " 'misunderstanding',\n",
       " 'responsibilities',\n",
       " 'sentimentalizing',\n",
       " 'transcontinental',\n",
       " 'uncharitableness',\n",
       " 'unconstitutional']"
      ]
     },
     "execution_count": 63,
     "metadata": {},
     "output_type": "execute_result"
    }
   ],
   "source": [
    "buscar_palabras_largas(text4)"
   ]
  },
  {
   "cell_type": "code",
   "execution_count": 66,
   "id": "0eb4ab22-9aa3-4735-b71a-8655c6b85752",
   "metadata": {},
   "outputs": [
    {
     "data": {
      "text/plain": [
       "['#talkcity_adults']"
      ]
     },
     "execution_count": 66,
     "metadata": {},
     "output_type": "execute_result"
    }
   ],
   "source": [
    "fdist5 = FreqDist(text5)\n",
    "sorted(w for w in set(text5) if len(w) > 15 and fdist5[w] > 7)"
   ]
  },
  {
   "cell_type": "code",
   "execution_count": 70,
   "id": "0ae98430-ec18-4b20-8dbb-7eeebb44fb2e",
   "metadata": {},
   "outputs": [
    {
     "name": "stdout",
     "output_type": "stream",
     "text": [
      "United States; fellow citizens; years ago; four years; Federal\n",
      "Government; General Government; Vice President; American people; God\n",
      "bless; Chief Justice; one another; fellow Americans; Old World;\n",
      "Almighty God; Fellow citizens; Chief Magistrate; every citizen; Indian\n",
      "tribes; public debt; foreign nations\n"
     ]
    }
   ],
   "source": [
    "text4.collocations()"
   ]
  },
  {
   "cell_type": "code",
   "execution_count": 71,
   "id": "dec52280-69b1-4754-942c-92de51e7d510",
   "metadata": {},
   "outputs": [
    {
     "data": {
      "text/plain": [
       "FreqDist({3: 50223, 1: 47933, 4: 42345, 2: 38513, 5: 26597, 6: 17111, 7: 14399, 8: 9966, 9: 6428, 10: 3528, ...})"
      ]
     },
     "execution_count": 71,
     "metadata": {},
     "output_type": "execute_result"
    }
   ],
   "source": [
    "distlen1= FreqDist(len(w )for w in text1)\n",
    "distlen1"
   ]
  },
  {
   "cell_type": "code",
   "execution_count": 72,
   "id": "d552faaf-7840-46ce-bc22-c5bdd704ae92",
   "metadata": {},
   "outputs": [
    {
     "data": {
      "text/plain": [
       "[(3, 50223),\n",
       " (1, 47933),\n",
       " (4, 42345),\n",
       " (2, 38513),\n",
       " (5, 26597),\n",
       " (6, 17111),\n",
       " (7, 14399),\n",
       " (8, 9966),\n",
       " (9, 6428),\n",
       " (10, 3528)]"
      ]
     },
     "execution_count": 72,
     "metadata": {},
     "output_type": "execute_result"
    }
   ],
   "source": [
    "distlen1.most_common(10)"
   ]
  },
  {
   "cell_type": "code",
   "execution_count": 73,
   "id": "83899861-5b9d-4db1-8785-2aac9a24ee02",
   "metadata": {},
   "outputs": [
    {
     "data": {
      "text/plain": [
       "3.834076505162584e-05"
      ]
     },
     "execution_count": 73,
     "metadata": {},
     "output_type": "execute_result"
    }
   ],
   "source": [
    "fdist1.freq('monstrous')"
   ]
  },
  {
   "cell_type": "code",
   "execution_count": null,
   "id": "5af72383-cfbf-47fe-b775-cfe3ef5adee5",
   "metadata": {},
   "outputs": [],
   "source": []
  }
 ],
 "metadata": {
  "kernelspec": {
   "display_name": "Python 3 (ipykernel)",
   "language": "python",
   "name": "python3"
  },
  "language_info": {
   "codemirror_mode": {
    "name": "ipython",
    "version": 3
   },
   "file_extension": ".py",
   "mimetype": "text/x-python",
   "name": "python",
   "nbconvert_exporter": "python",
   "pygments_lexer": "ipython3",
   "version": "3.13.2"
  }
 },
 "nbformat": 4,
 "nbformat_minor": 5
}
