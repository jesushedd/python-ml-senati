{
 "cells": [
  {
   "cell_type": "code",
   "execution_count": 18,
   "id": "061a1cb1-c813-40c0-b4e2-2cfdaf446e3f",
   "metadata": {},
   "outputs": [],
   "source": [
    "import pandas as pd\n",
    "import seaborn as sns"
   ]
  },
  {
   "cell_type": "code",
   "execution_count": 2,
   "id": "e7eb1da8-d014-4cb4-b427-dcabfbd26e85",
   "metadata": {},
   "outputs": [],
   "source": [
    "estudiantes_df = pd.read_csv('datos_estudiantes_1000.csv')"
   ]
  },
  {
   "cell_type": "code",
   "execution_count": 3,
   "id": "a647b0e6-c045-41b6-a745-6b479c2755b8",
   "metadata": {},
   "outputs": [
    {
     "data": {
      "text/html": [
       "<div>\n",
       "<style scoped>\n",
       "    .dataframe tbody tr th:only-of-type {\n",
       "        vertical-align: middle;\n",
       "    }\n",
       "\n",
       "    .dataframe tbody tr th {\n",
       "        vertical-align: top;\n",
       "    }\n",
       "\n",
       "    .dataframe thead th {\n",
       "        text-align: right;\n",
       "    }\n",
       "</style>\n",
       "<table border=\"1\" class=\"dataframe\">\n",
       "  <thead>\n",
       "    <tr style=\"text-align: right;\">\n",
       "      <th></th>\n",
       "      <th>ID</th>\n",
       "      <th>Edad</th>\n",
       "      <th>Promedio_Notas</th>\n",
       "      <th>Asistencia_%</th>\n",
       "      <th>Asignaturas_Desaprobadas</th>\n",
       "      <th>Uso_Plataforma_Virtual</th>\n",
       "      <th>Participa_Tutorias</th>\n",
       "      <th>Trabaja</th>\n",
       "      <th>Abandona</th>\n",
       "    </tr>\n",
       "  </thead>\n",
       "  <tbody>\n",
       "    <tr>\n",
       "      <th>0</th>\n",
       "      <td>1</td>\n",
       "      <td>19</td>\n",
       "      <td>9.3</td>\n",
       "      <td>100.7</td>\n",
       "      <td>1</td>\n",
       "      <td>0</td>\n",
       "      <td>0</td>\n",
       "      <td>0</td>\n",
       "      <td>1</td>\n",
       "    </tr>\n",
       "    <tr>\n",
       "      <th>1</th>\n",
       "      <td>2</td>\n",
       "      <td>29</td>\n",
       "      <td>15.4</td>\n",
       "      <td>80.1</td>\n",
       "      <td>0</td>\n",
       "      <td>1</td>\n",
       "      <td>0</td>\n",
       "      <td>1</td>\n",
       "      <td>1</td>\n",
       "    </tr>\n",
       "    <tr>\n",
       "      <th>2</th>\n",
       "      <td>3</td>\n",
       "      <td>19</td>\n",
       "      <td>13.5</td>\n",
       "      <td>70.1</td>\n",
       "      <td>1</td>\n",
       "      <td>0</td>\n",
       "      <td>1</td>\n",
       "      <td>0</td>\n",
       "      <td>0</td>\n",
       "    </tr>\n",
       "    <tr>\n",
       "      <th>3</th>\n",
       "      <td>4</td>\n",
       "      <td>23</td>\n",
       "      <td>13.4</td>\n",
       "      <td>80.3</td>\n",
       "      <td>1</td>\n",
       "      <td>0</td>\n",
       "      <td>1</td>\n",
       "      <td>0</td>\n",
       "      <td>1</td>\n",
       "    </tr>\n",
       "    <tr>\n",
       "      <th>4</th>\n",
       "      <td>5</td>\n",
       "      <td>18</td>\n",
       "      <td>13.6</td>\n",
       "      <td>85.9</td>\n",
       "      <td>4</td>\n",
       "      <td>0</td>\n",
       "      <td>1</td>\n",
       "      <td>1</td>\n",
       "      <td>0</td>\n",
       "    </tr>\n",
       "  </tbody>\n",
       "</table>\n",
       "</div>"
      ],
      "text/plain": [
       "   ID  Edad  Promedio_Notas  Asistencia_%  Asignaturas_Desaprobadas  \\\n",
       "0   1    19             9.3         100.7                         1   \n",
       "1   2    29            15.4          80.1                         0   \n",
       "2   3    19            13.5          70.1                         1   \n",
       "3   4    23            13.4          80.3                         1   \n",
       "4   5    18            13.6          85.9                         4   \n",
       "\n",
       "   Uso_Plataforma_Virtual  Participa_Tutorias  Trabaja  Abandona  \n",
       "0                       0                   0        0         1  \n",
       "1                       1                   0        1         1  \n",
       "2                       0                   1        0         0  \n",
       "3                       0                   1        0         1  \n",
       "4                       0                   1        1         0  "
      ]
     },
     "execution_count": 3,
     "metadata": {},
     "output_type": "execute_result"
    }
   ],
   "source": [
    "estudiantes_df.head()"
   ]
  },
  {
   "cell_type": "markdown",
   "id": "9d1d7144-419f-42f2-ac1a-e57661206799",
   "metadata": {},
   "source": [
    "# 4.1 Analisis de Datos Exploratorio Inicial"
   ]
  },
  {
   "cell_type": "code",
   "execution_count": 4,
   "id": "e8edcc38-481e-44da-9e86-fa113d62686c",
   "metadata": {},
   "outputs": [
    {
     "name": "stdout",
     "output_type": "stream",
     "text": [
      "<class 'pandas.core.frame.DataFrame'>\n",
      "RangeIndex: 1000 entries, 0 to 999\n",
      "Data columns (total 9 columns):\n",
      " #   Column                    Non-Null Count  Dtype  \n",
      "---  ------                    --------------  -----  \n",
      " 0   ID                        1000 non-null   int64  \n",
      " 1   Edad                      1000 non-null   int64  \n",
      " 2   Promedio_Notas            1000 non-null   float64\n",
      " 3   Asistencia_%              1000 non-null   float64\n",
      " 4   Asignaturas_Desaprobadas  1000 non-null   int64  \n",
      " 5   Uso_Plataforma_Virtual    1000 non-null   int64  \n",
      " 6   Participa_Tutorias        1000 non-null   int64  \n",
      " 7   Trabaja                   1000 non-null   int64  \n",
      " 8   Abandona                  1000 non-null   int64  \n",
      "dtypes: float64(2), int64(7)\n",
      "memory usage: 70.4 KB\n"
     ]
    }
   ],
   "source": [
    "estudiantes_df.info()"
   ]
  },
  {
   "cell_type": "code",
   "execution_count": 8,
   "id": "560ff6c7-909d-4a4c-b4a2-f6c66cd380ea",
   "metadata": {},
   "outputs": [
    {
     "data": {
      "text/html": [
       "<div>\n",
       "<style scoped>\n",
       "    .dataframe tbody tr th:only-of-type {\n",
       "        vertical-align: middle;\n",
       "    }\n",
       "\n",
       "    .dataframe tbody tr th {\n",
       "        vertical-align: top;\n",
       "    }\n",
       "\n",
       "    .dataframe thead th {\n",
       "        text-align: right;\n",
       "    }\n",
       "</style>\n",
       "<table border=\"1\" class=\"dataframe\">\n",
       "  <thead>\n",
       "    <tr style=\"text-align: right;\">\n",
       "      <th></th>\n",
       "      <th>ID</th>\n",
       "      <th>Edad</th>\n",
       "      <th>Promedio_Notas</th>\n",
       "      <th>Asistencia_%</th>\n",
       "      <th>Asignaturas_Desaprobadas</th>\n",
       "      <th>Uso_Plataforma_Virtual</th>\n",
       "      <th>Participa_Tutorias</th>\n",
       "      <th>Trabaja</th>\n",
       "      <th>Abandona</th>\n",
       "    </tr>\n",
       "  </thead>\n",
       "  <tbody>\n",
       "    <tr>\n",
       "      <th>count</th>\n",
       "      <td>1000.000000</td>\n",
       "      <td>1000.000000</td>\n",
       "      <td>1000.000000</td>\n",
       "      <td>1000.000000</td>\n",
       "      <td>1000.00000</td>\n",
       "      <td>1000.000000</td>\n",
       "      <td>1000.000000</td>\n",
       "      <td>1000.000000</td>\n",
       "      <td>1000.00000</td>\n",
       "    </tr>\n",
       "    <tr>\n",
       "      <th>mean</th>\n",
       "      <td>500.500000</td>\n",
       "      <td>22.819000</td>\n",
       "      <td>13.520500</td>\n",
       "      <td>85.467300</td>\n",
       "      <td>1.52400</td>\n",
       "      <td>0.485000</td>\n",
       "      <td>0.495000</td>\n",
       "      <td>0.499000</td>\n",
       "      <td>0.63400</td>\n",
       "    </tr>\n",
       "    <tr>\n",
       "      <th>std</th>\n",
       "      <td>288.819436</td>\n",
       "      <td>3.661372</td>\n",
       "      <td>2.029845</td>\n",
       "      <td>9.829633</td>\n",
       "      <td>1.22185</td>\n",
       "      <td>0.500025</td>\n",
       "      <td>0.500225</td>\n",
       "      <td>0.500249</td>\n",
       "      <td>0.48195</td>\n",
       "    </tr>\n",
       "    <tr>\n",
       "      <th>min</th>\n",
       "      <td>1.000000</td>\n",
       "      <td>17.000000</td>\n",
       "      <td>7.000000</td>\n",
       "      <td>53.300000</td>\n",
       "      <td>0.00000</td>\n",
       "      <td>0.000000</td>\n",
       "      <td>0.000000</td>\n",
       "      <td>0.000000</td>\n",
       "      <td>0.00000</td>\n",
       "    </tr>\n",
       "    <tr>\n",
       "      <th>25%</th>\n",
       "      <td>250.750000</td>\n",
       "      <td>20.000000</td>\n",
       "      <td>12.175000</td>\n",
       "      <td>78.600000</td>\n",
       "      <td>1.00000</td>\n",
       "      <td>0.000000</td>\n",
       "      <td>0.000000</td>\n",
       "      <td>0.000000</td>\n",
       "      <td>0.00000</td>\n",
       "    </tr>\n",
       "    <tr>\n",
       "      <th>50%</th>\n",
       "      <td>500.500000</td>\n",
       "      <td>23.000000</td>\n",
       "      <td>13.500000</td>\n",
       "      <td>85.600000</td>\n",
       "      <td>1.00000</td>\n",
       "      <td>0.000000</td>\n",
       "      <td>0.000000</td>\n",
       "      <td>0.000000</td>\n",
       "      <td>1.00000</td>\n",
       "    </tr>\n",
       "    <tr>\n",
       "      <th>75%</th>\n",
       "      <td>750.250000</td>\n",
       "      <td>26.000000</td>\n",
       "      <td>15.000000</td>\n",
       "      <td>92.425000</td>\n",
       "      <td>2.00000</td>\n",
       "      <td>1.000000</td>\n",
       "      <td>1.000000</td>\n",
       "      <td>1.000000</td>\n",
       "      <td>1.00000</td>\n",
       "    </tr>\n",
       "    <tr>\n",
       "      <th>max</th>\n",
       "      <td>1000.000000</td>\n",
       "      <td>29.000000</td>\n",
       "      <td>20.200000</td>\n",
       "      <td>117.400000</td>\n",
       "      <td>7.00000</td>\n",
       "      <td>1.000000</td>\n",
       "      <td>1.000000</td>\n",
       "      <td>1.000000</td>\n",
       "      <td>1.00000</td>\n",
       "    </tr>\n",
       "  </tbody>\n",
       "</table>\n",
       "</div>"
      ],
      "text/plain": [
       "                ID         Edad  Promedio_Notas  Asistencia_%  \\\n",
       "count  1000.000000  1000.000000     1000.000000   1000.000000   \n",
       "mean    500.500000    22.819000       13.520500     85.467300   \n",
       "std     288.819436     3.661372        2.029845      9.829633   \n",
       "min       1.000000    17.000000        7.000000     53.300000   \n",
       "25%     250.750000    20.000000       12.175000     78.600000   \n",
       "50%     500.500000    23.000000       13.500000     85.600000   \n",
       "75%     750.250000    26.000000       15.000000     92.425000   \n",
       "max    1000.000000    29.000000       20.200000    117.400000   \n",
       "\n",
       "       Asignaturas_Desaprobadas  Uso_Plataforma_Virtual  Participa_Tutorias  \\\n",
       "count                1000.00000             1000.000000         1000.000000   \n",
       "mean                    1.52400                0.485000            0.495000   \n",
       "std                     1.22185                0.500025            0.500225   \n",
       "min                     0.00000                0.000000            0.000000   \n",
       "25%                     1.00000                0.000000            0.000000   \n",
       "50%                     1.00000                0.000000            0.000000   \n",
       "75%                     2.00000                1.000000            1.000000   \n",
       "max                     7.00000                1.000000            1.000000   \n",
       "\n",
       "           Trabaja    Abandona  \n",
       "count  1000.000000  1000.00000  \n",
       "mean      0.499000     0.63400  \n",
       "std       0.500249     0.48195  \n",
       "min       0.000000     0.00000  \n",
       "25%       0.000000     0.00000  \n",
       "50%       0.000000     1.00000  \n",
       "75%       1.000000     1.00000  \n",
       "max       1.000000     1.00000  "
      ]
     },
     "execution_count": 8,
     "metadata": {},
     "output_type": "execute_result"
    }
   ],
   "source": [
    "estudiantes_df.describe()"
   ]
  },
  {
   "cell_type": "code",
   "execution_count": 9,
   "id": "37e07a5e-dc0d-460a-af00-296c3fc0a8b2",
   "metadata": {},
   "outputs": [
    {
     "data": {
      "text/plain": [
       "np.float64(0.034798900243750396)"
      ]
     },
     "execution_count": 9,
     "metadata": {},
     "output_type": "execute_result"
    }
   ],
   "source": [
    "estudiantes_df.Edad.skew()"
   ]
  },
  {
   "cell_type": "code",
   "execution_count": 10,
   "id": "463dbd3e-9593-416c-8e4a-1a7061316ac9",
   "metadata": {},
   "outputs": [
    {
     "data": {
      "text/plain": [
       "np.float64(-0.011003362731219029)"
      ]
     },
     "execution_count": 10,
     "metadata": {},
     "output_type": "execute_result"
    }
   ],
   "source": [
    "estudiantes_df.Promedio_Notas.skew()"
   ]
  },
  {
   "cell_type": "code",
   "execution_count": 33,
   "id": "d9617631-7e54-4b47-b718-186fdc65a85d",
   "metadata": {},
   "outputs": [
    {
     "data": {
      "text/plain": [
       "np.float64(0.6586171438067333)"
      ]
     },
     "execution_count": 33,
     "metadata": {},
     "output_type": "execute_result"
    }
   ],
   "source": [
    "estudiantes_df.Asignaturas_Desaprobadas.value_counts().skew()"
   ]
  },
  {
   "cell_type": "code",
   "execution_count": 14,
   "id": "30621b9c-449b-4b68-8da9-b38199c049bf",
   "metadata": {},
   "outputs": [
    {
     "data": {
      "text/plain": [
       "np.float64(0.060117231685800535)"
      ]
     },
     "execution_count": 14,
     "metadata": {},
     "output_type": "execute_result"
    }
   ],
   "source": [
    "estudiantes_df.Uso_Plataforma_Virtual.skew()"
   ]
  },
  {
   "cell_type": "code",
   "execution_count": 15,
   "id": "834c1289-c2ca-4c7a-ab4d-1fd6f4a7a024",
   "metadata": {},
   "outputs": [
    {
     "data": {
      "text/plain": [
       "np.float64(0.020031059191976827)"
      ]
     },
     "execution_count": 15,
     "metadata": {},
     "output_type": "execute_result"
    }
   ],
   "source": [
    "estudiantes_df.Participa_Tutorias.skew()"
   ]
  },
  {
   "cell_type": "code",
   "execution_count": 25,
   "id": "b3272482-1d48-445a-abec-194035318e45",
   "metadata": {},
   "outputs": [
    {
     "data": {
      "text/plain": [
       "Abandona\n",
       "1    634\n",
       "0    366\n",
       "Name: count, dtype: int64"
      ]
     },
     "execution_count": 25,
     "metadata": {},
     "output_type": "execute_result"
    }
   ],
   "source": [
    "estudiantes_df.Abandona.value_counts()"
   ]
  },
  {
   "cell_type": "code",
   "execution_count": 32,
   "id": "7fed11b1-0925-46f0-978c-33d68306a4a7",
   "metadata": {},
   "outputs": [
    {
     "data": {
      "text/plain": [
       "Asistencia_%\n",
       "53.3     1\n",
       "53.5     1\n",
       "56.2     1\n",
       "59.5     1\n",
       "60.9     2\n",
       "        ..\n",
       "108.3    2\n",
       "109.0    1\n",
       "109.9    1\n",
       "116.9    1\n",
       "117.4    1\n",
       "Name: count, Length: 364, dtype: int64"
      ]
     },
     "execution_count": 32,
     "metadata": {},
     "output_type": "execute_result"
    }
   ],
   "source": [
    "estudiantes_df['Asistencia_%'].value_counts(dropna=False).sort_index()"
   ]
  },
  {
   "cell_type": "code",
   "execution_count": 27,
   "id": "62efb389-6f21-4035-a40e-5223172c3e00",
   "metadata": {},
   "outputs": [
    {
     "data": {
      "text/plain": [
       "<Axes: xlabel='None', ylabel='Asistencia_%'>"
      ]
     },
     "execution_count": 27,
     "metadata": {},
     "output_type": "execute_result"
    },
    {
     "data": {
      "image/png": "[encoded data removed]",
      "text/plain": [
       "<Figure size 640x480 with 1 Axes>"
      ]
     },
     "metadata": {},
     "output_type": "display_data"
    }
   ],
   "source": [
    "sns.scatterplot(x=estudiantes_df.index, y='Asistencia_%', data=estudiantes_df)"
   ]
  },
  {
   "cell_type": "code",
   "execution_count": null,
   "id": "e93ea96a-451d-47b2-95da-5a41b27f8f05",
   "metadata": {},
   "outputs": [],
   "source": []
  }
 ],
 "metadata": {
  "kernelspec": {
   "display_name": "Python 3 (ipykernel)",
   "language": "python",
   "name": "python3"
  },
  "language_info": {
   "codemirror_mode": {
    "name": "ipython",
    "version": 3
   },
   "file_extension": ".py",
   "mimetype": "text/x-python",
   "name": "python",
   "nbconvert_exporter": "python",
   "pygments_lexer": "ipython3",
   "version": "3.13.2"
  }
 },
 "nbformat": 4,
 "nbformat_minor": 5
}
