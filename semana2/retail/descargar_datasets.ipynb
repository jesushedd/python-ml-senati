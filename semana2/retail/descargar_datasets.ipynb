{
 "cells": [
  {
   "cell_type": "code",
   "execution_count": 94,
   "id": "5169ec4e-6113-4d34-80f6-138f71fe8709",
   "metadata": {},
   "outputs": [],
   "source": [
    "import kagglehub\n",
    "import pandas as pd\n",
    "from pathlib import Path\n",
    "import numpy as np"
   ]
  },
  {
   "cell_type": "code",
   "execution_count": 39,
   "id": "6517d45c-cb72-4785-b082-71325ec405db",
   "metadata": {},
   "outputs": [
    {
     "name": "stdout",
     "output_type": "stream",
     "text": [
      "Downloading from https://www.kaggle.com/api/v1/datasets/download/vijayuv/onlineretail?dataset_version_number=1...\n"
     ]
    },
    {
     "name": "stderr",
     "output_type": "stream",
     "text": [
      "100%|█████████████████████████████████████████████████████████████████████████████| 7.20M/7.20M [00:00<00:00, 7.57MB/s]"
     ]
    },
    {
     "name": "stdout",
     "output_type": "stream",
     "text": [
      "Extracting files...\n"
     ]
    },
    {
     "name": "stderr",
     "output_type": "stream",
     "text": [
      "\n"
     ]
    }
   ],
   "source": [
    "retail_path =  kagglehub.dataset_download(\"vijayuv/onlineretail\")"
   ]
  },
  {
   "cell_type": "code",
   "execution_count": 76,
   "id": "62630992-14a5-4050-9e63-fb2f0a9f5401",
   "metadata": {},
   "outputs": [],
   "source": [
    "retail_csv = Path(retail_path).resolve() / 'onlineretail.csv'"
   ]
  },
  {
   "cell_type": "code",
   "execution_count": 77,
   "id": "d32f9270-21a5-4047-9520-7865d79ffa54",
   "metadata": {},
   "outputs": [],
   "source": [
    "retail_ds = pd.read_csv(str(retail_csv), encoding='latin1')"
   ]
  },
  {
   "cell_type": "markdown",
   "id": "f0a4e73f-e36d-430b-97cd-95893e4b7c5c",
   "metadata": {},
   "source": [
    "# 1. Eploracion de Datos"
   ]
  },
  {
   "cell_type": "markdown",
   "id": "f14f2210-16b6-4f7c-9ac1-2b4389936251",
   "metadata": {},
   "source": [
    "## Verificar valores nulos"
   ]
  },
  {
   "cell_type": "markdown",
   "id": "0efc2e4e-b8a1-4678-9efa-a9cfa5227086",
   "metadata": {},
   "source": [
    "Existen 541 909 filas y 8 columnas, de las cuales hay muchas que contienen valores nulos"
   ]
  },
  {
   "cell_type": "code",
   "execution_count": 78,
   "id": "fe29b57a-4239-43c9-88d4-cf92130b25e6",
   "metadata": {},
   "outputs": [
    {
     "name": "stdout",
     "output_type": "stream",
     "text": [
      "<class 'pandas.core.frame.DataFrame'>\n",
      "RangeIndex: 541909 entries, 0 to 541908\n",
      "Data columns (total 8 columns):\n",
      " #   Column       Non-Null Count   Dtype  \n",
      "---  ------       --------------   -----  \n",
      " 0   InvoiceNo    541909 non-null  object \n",
      " 1   StockCode    541909 non-null  object \n",
      " 2   Description  540455 non-null  object \n",
      " 3   Quantity     541909 non-null  int64  \n",
      " 4   InvoiceDate  541909 non-null  object \n",
      " 5   UnitPrice    541909 non-null  float64\n",
      " 6   CustomerID   406829 non-null  float64\n",
      " 7   Country      541909 non-null  object \n",
      "dtypes: float64(2), int64(1), object(5)\n",
      "memory usage: 33.1+ MB\n"
     ]
    }
   ],
   "source": [
    "retail_ds.info()"
   ]
  },
  {
   "cell_type": "code",
   "execution_count": 79,
   "id": "9e36560b-1f00-4869-a35b-918d5b186a9f",
   "metadata": {},
   "outputs": [
    {
     "data": {
      "text/html": [
       "<div>\n",
       "<style scoped>\n",
       "    .dataframe tbody tr th:only-of-type {\n",
       "        vertical-align: middle;\n",
       "    }\n",
       "\n",
       "    .dataframe tbody tr th {\n",
       "        vertical-align: top;\n",
       "    }\n",
       "\n",
       "    .dataframe thead th {\n",
       "        text-align: right;\n",
       "    }\n",
       "</style>\n",
       "<table border=\"1\" class=\"dataframe\">\n",
       "  <thead>\n",
       "    <tr style=\"text-align: right;\">\n",
       "      <th></th>\n",
       "      <th>InvoiceNo</th>\n",
       "      <th>StockCode</th>\n",
       "      <th>Description</th>\n",
       "      <th>Quantity</th>\n",
       "      <th>InvoiceDate</th>\n",
       "      <th>UnitPrice</th>\n",
       "      <th>CustomerID</th>\n",
       "      <th>Country</th>\n",
       "    </tr>\n",
       "  </thead>\n",
       "  <tbody>\n",
       "    <tr>\n",
       "      <th>0</th>\n",
       "      <td>536365</td>\n",
       "      <td>85123A</td>\n",
       "      <td>WHITE HANGING HEART T-LIGHT HOLDER</td>\n",
       "      <td>6</td>\n",
       "      <td>12/1/2010 8:26</td>\n",
       "      <td>2.55</td>\n",
       "      <td>17850.0</td>\n",
       "      <td>United Kingdom</td>\n",
       "    </tr>\n",
       "    <tr>\n",
       "      <th>1</th>\n",
       "      <td>536365</td>\n",
       "      <td>71053</td>\n",
       "      <td>WHITE METAL LANTERN</td>\n",
       "      <td>6</td>\n",
       "      <td>12/1/2010 8:26</td>\n",
       "      <td>3.39</td>\n",
       "      <td>17850.0</td>\n",
       "      <td>United Kingdom</td>\n",
       "    </tr>\n",
       "    <tr>\n",
       "      <th>2</th>\n",
       "      <td>536365</td>\n",
       "      <td>84406B</td>\n",
       "      <td>CREAM CUPID HEARTS COAT HANGER</td>\n",
       "      <td>8</td>\n",
       "      <td>12/1/2010 8:26</td>\n",
       "      <td>2.75</td>\n",
       "      <td>17850.0</td>\n",
       "      <td>United Kingdom</td>\n",
       "    </tr>\n",
       "    <tr>\n",
       "      <th>3</th>\n",
       "      <td>536365</td>\n",
       "      <td>84029G</td>\n",
       "      <td>KNITTED UNION FLAG HOT WATER BOTTLE</td>\n",
       "      <td>6</td>\n",
       "      <td>12/1/2010 8:26</td>\n",
       "      <td>3.39</td>\n",
       "      <td>17850.0</td>\n",
       "      <td>United Kingdom</td>\n",
       "    </tr>\n",
       "    <tr>\n",
       "      <th>4</th>\n",
       "      <td>536365</td>\n",
       "      <td>84029E</td>\n",
       "      <td>RED WOOLLY HOTTIE WHITE HEART.</td>\n",
       "      <td>6</td>\n",
       "      <td>12/1/2010 8:26</td>\n",
       "      <td>3.39</td>\n",
       "      <td>17850.0</td>\n",
       "      <td>United Kingdom</td>\n",
       "    </tr>\n",
       "  </tbody>\n",
       "</table>\n",
       "</div>"
      ],
      "text/plain": [
       "  InvoiceNo StockCode                          Description  Quantity  \\\n",
       "0    536365    85123A   WHITE HANGING HEART T-LIGHT HOLDER         6   \n",
       "1    536365     71053                  WHITE METAL LANTERN         6   \n",
       "2    536365    84406B       CREAM CUPID HEARTS COAT HANGER         8   \n",
       "3    536365    84029G  KNITTED UNION FLAG HOT WATER BOTTLE         6   \n",
       "4    536365    84029E       RED WOOLLY HOTTIE WHITE HEART.         6   \n",
       "\n",
       "      InvoiceDate  UnitPrice  CustomerID         Country  \n",
       "0  12/1/2010 8:26       2.55     17850.0  United Kingdom  \n",
       "1  12/1/2010 8:26       3.39     17850.0  United Kingdom  \n",
       "2  12/1/2010 8:26       2.75     17850.0  United Kingdom  \n",
       "3  12/1/2010 8:26       3.39     17850.0  United Kingdom  \n",
       "4  12/1/2010 8:26       3.39     17850.0  United Kingdom  "
      ]
     },
     "execution_count": 79,
     "metadata": {},
     "output_type": "execute_result"
    }
   ],
   "source": [
    "retail_ds.head()"
   ]
  },
  {
   "cell_type": "markdown",
   "id": "cebb856a-855e-47f9-b7df-2d5e444d08fd",
   "metadata": {},
   "source": [
    "###  Se eliminan las filas que contiene valores nulos\n",
    "Quedando solo 406 829 filas sin valores nulos"
   ]
  },
  {
   "cell_type": "code",
   "execution_count": 80,
   "id": "60d7cada-4158-4720-a7ed-621d4ab2edf4",
   "metadata": {},
   "outputs": [],
   "source": [
    "retail_ds.dropna(inplace=True)"
   ]
  },
  {
   "cell_type": "code",
   "execution_count": 81,
   "id": "86eadf65-3425-46e9-a0b0-b552ec5b0b5a",
   "metadata": {
    "jupyter": {
     "source_hidden": true
    }
   },
   "outputs": [
    {
     "name": "stdout",
     "output_type": "stream",
     "text": [
      "<class 'pandas.core.frame.DataFrame'>\n",
      "Index: 406829 entries, 0 to 541908\n",
      "Data columns (total 8 columns):\n",
      " #   Column       Non-Null Count   Dtype  \n",
      "---  ------       --------------   -----  \n",
      " 0   InvoiceNo    406829 non-null  object \n",
      " 1   StockCode    406829 non-null  object \n",
      " 2   Description  406829 non-null  object \n",
      " 3   Quantity     406829 non-null  int64  \n",
      " 4   InvoiceDate  406829 non-null  object \n",
      " 5   UnitPrice    406829 non-null  float64\n",
      " 6   CustomerID   406829 non-null  float64\n",
      " 7   Country      406829 non-null  object \n",
      "dtypes: float64(2), int64(1), object(5)\n",
      "memory usage: 27.9+ MB\n"
     ]
    }
   ],
   "source": [
    "retail_ds.info()"
   ]
  },
  {
   "cell_type": "markdown",
   "id": "fed4ae36-abc9-43f3-930a-bcb750016378",
   "metadata": {},
   "source": [
    "## Eliminar facturas que comienzan con \"C\"\n",
    "De la columna Description se elimina los valores que comiencen con c o C"
   ]
  },
  {
   "cell_type": "code",
   "execution_count": 82,
   "id": "f84a05cd-ea02-45db-ab2f-a6277072fd9c",
   "metadata": {
    "jupyter": {
     "source_hidden": true
    }
   },
   "outputs": [],
   "source": [
    "retail_ds = retail_ds[retail_ds.Description.str.startswith(('c', 'C'))]"
   ]
  },
  {
   "cell_type": "markdown",
   "id": "285f2bb1-71d3-470d-8282-b0a48cedf935",
   "metadata": {},
   "source": [
    "Resultando en solo 32616 filas de facturas que no son cancelaciones"
   ]
  },
  {
   "cell_type": "code",
   "execution_count": 83,
   "id": "795b7b84-ca6c-4023-b59e-9047542f9bb3",
   "metadata": {},
   "outputs": [
    {
     "name": "stdout",
     "output_type": "stream",
     "text": [
      "<class 'pandas.core.frame.DataFrame'>\n",
      "Index: 32516 entries, 2 to 541907\n",
      "Data columns (total 8 columns):\n",
      " #   Column       Non-Null Count  Dtype  \n",
      "---  ------       --------------  -----  \n",
      " 0   InvoiceNo    32516 non-null  object \n",
      " 1   StockCode    32516 non-null  object \n",
      " 2   Description  32516 non-null  object \n",
      " 3   Quantity     32516 non-null  int64  \n",
      " 4   InvoiceDate  32516 non-null  object \n",
      " 5   UnitPrice    32516 non-null  float64\n",
      " 6   CustomerID   32516 non-null  float64\n",
      " 7   Country      32516 non-null  object \n",
      "dtypes: float64(2), int64(1), object(5)\n",
      "memory usage: 2.2+ MB\n"
     ]
    }
   ],
   "source": [
    "retail_ds.info()"
   ]
  },
  {
   "cell_type": "markdown",
   "id": "1978a468-0fd2-4770-87e5-52a4c75c4e79",
   "metadata": {},
   "source": [
    "## Crear una nueva columna llamada Total que sea Cantidad × Precio\n",
    "Crear una nueva Columna 'Total' que es el resultado de multiplicar las columnas Quantity X UnitPrice"
   ]
  },
  {
   "cell_type": "code",
   "execution_count": 84,
   "id": "ae8cb75d-42da-4eb2-9d4b-6fdad01d9d1a",
   "metadata": {},
   "outputs": [
    {
     "data": {
      "text/html": [
       "<div>\n",
       "<style scoped>\n",
       "    .dataframe tbody tr th:only-of-type {\n",
       "        vertical-align: middle;\n",
       "    }\n",
       "\n",
       "    .dataframe tbody tr th {\n",
       "        vertical-align: top;\n",
       "    }\n",
       "\n",
       "    .dataframe thead th {\n",
       "        text-align: right;\n",
       "    }\n",
       "</style>\n",
       "<table border=\"1\" class=\"dataframe\">\n",
       "  <thead>\n",
       "    <tr style=\"text-align: right;\">\n",
       "      <th></th>\n",
       "      <th>InvoiceNo</th>\n",
       "      <th>StockCode</th>\n",
       "      <th>Description</th>\n",
       "      <th>Quantity</th>\n",
       "      <th>InvoiceDate</th>\n",
       "      <th>UnitPrice</th>\n",
       "      <th>CustomerID</th>\n",
       "      <th>Country</th>\n",
       "      <th>Total</th>\n",
       "    </tr>\n",
       "  </thead>\n",
       "  <tbody>\n",
       "    <tr>\n",
       "      <th>2</th>\n",
       "      <td>536365</td>\n",
       "      <td>84406B</td>\n",
       "      <td>CREAM CUPID HEARTS COAT HANGER</td>\n",
       "      <td>8</td>\n",
       "      <td>12/1/2010 8:26</td>\n",
       "      <td>2.75</td>\n",
       "      <td>17850.0</td>\n",
       "      <td>United Kingdom</td>\n",
       "      <td>22.0</td>\n",
       "    </tr>\n",
       "    <tr>\n",
       "      <th>37</th>\n",
       "      <td>536370</td>\n",
       "      <td>22631</td>\n",
       "      <td>CIRCUS PARADE LUNCH BOX</td>\n",
       "      <td>24</td>\n",
       "      <td>12/1/2010 8:45</td>\n",
       "      <td>1.95</td>\n",
       "      <td>12583.0</td>\n",
       "      <td>France</td>\n",
       "      <td>46.8</td>\n",
       "    </tr>\n",
       "    <tr>\n",
       "      <th>38</th>\n",
       "      <td>536370</td>\n",
       "      <td>22661</td>\n",
       "      <td>CHARLOTTE BAG DOLLY GIRL DESIGN</td>\n",
       "      <td>20</td>\n",
       "      <td>12/1/2010 8:45</td>\n",
       "      <td>0.85</td>\n",
       "      <td>12583.0</td>\n",
       "      <td>France</td>\n",
       "      <td>17.0</td>\n",
       "    </tr>\n",
       "    <tr>\n",
       "      <th>51</th>\n",
       "      <td>536373</td>\n",
       "      <td>84406B</td>\n",
       "      <td>CREAM CUPID HEARTS COAT HANGER</td>\n",
       "      <td>8</td>\n",
       "      <td>12/1/2010 9:02</td>\n",
       "      <td>2.75</td>\n",
       "      <td>17850.0</td>\n",
       "      <td>United Kingdom</td>\n",
       "      <td>22.0</td>\n",
       "    </tr>\n",
       "    <tr>\n",
       "      <th>68</th>\n",
       "      <td>536375</td>\n",
       "      <td>84406B</td>\n",
       "      <td>CREAM CUPID HEARTS COAT HANGER</td>\n",
       "      <td>8</td>\n",
       "      <td>12/1/2010 9:32</td>\n",
       "      <td>2.75</td>\n",
       "      <td>17850.0</td>\n",
       "      <td>United Kingdom</td>\n",
       "      <td>22.0</td>\n",
       "    </tr>\n",
       "  </tbody>\n",
       "</table>\n",
       "</div>"
      ],
      "text/plain": [
       "   InvoiceNo StockCode                      Description  Quantity  \\\n",
       "2     536365    84406B   CREAM CUPID HEARTS COAT HANGER         8   \n",
       "37    536370     22631         CIRCUS PARADE LUNCH BOX         24   \n",
       "38    536370     22661  CHARLOTTE BAG DOLLY GIRL DESIGN        20   \n",
       "51    536373    84406B   CREAM CUPID HEARTS COAT HANGER         8   \n",
       "68    536375    84406B   CREAM CUPID HEARTS COAT HANGER         8   \n",
       "\n",
       "       InvoiceDate  UnitPrice  CustomerID         Country  Total  \n",
       "2   12/1/2010 8:26       2.75     17850.0  United Kingdom   22.0  \n",
       "37  12/1/2010 8:45       1.95     12583.0          France   46.8  \n",
       "38  12/1/2010 8:45       0.85     12583.0          France   17.0  \n",
       "51  12/1/2010 9:02       2.75     17850.0  United Kingdom   22.0  \n",
       "68  12/1/2010 9:32       2.75     17850.0  United Kingdom   22.0  "
      ]
     },
     "execution_count": 84,
     "metadata": {},
     "output_type": "execute_result"
    }
   ],
   "source": [
    "retail_ds['Total'] = retail_ds.Quantity * retail_ds.UnitPrice\n",
    "retail_ds.head()"
   ]
  },
  {
   "cell_type": "markdown",
   "id": "783fc4f5-c97f-4eeb-a637-08432dfa4a39",
   "metadata": {},
   "source": [
    "# 2. Predicción: ¿El cliente hará una compra grande?"
   ]
  },
  {
   "cell_type": "markdown",
   "id": "060cd002-76aa-433e-9dba-35e3858332fa",
   "metadata": {},
   "source": [
    "Crear columna 'Compra_Grande' , asignar 1 si el Total es mayor a 500, de lo contrario 0"
   ]
  },
  {
   "cell_type": "code",
   "execution_count": 96,
   "id": "40682fa8-0938-4711-adf8-8e05912f9bd2",
   "metadata": {},
   "outputs": [],
   "source": [
    "retail_ds['Compra_Grande'] = [1 if t > 500 else 0 for t in retail_ds.Total]"
   ]
  },
  {
   "cell_type": "code",
   "execution_count": 97,
   "id": "692a5c92-8331-4970-a565-92896955e210",
   "metadata": {},
   "outputs": [],
   "source": [
    "retail_ds['Compra_Grande'] = retail_ds.Compra_Grande.astype(np.int8)"
   ]
  },
  {
   "cell_type": "code",
   "execution_count": 98,
   "id": "9c0eb66b-22ea-4676-8ae7-77f02f27b335",
   "metadata": {},
   "outputs": [
    {
     "data": {
      "text/plain": [
       "Compra_Grande\n",
       "0    32451\n",
       "1       65\n",
       "Name: count, dtype: int64"
      ]
     },
     "execution_count": 98,
     "metadata": {},
     "output_type": "execute_result"
    }
   ],
   "source": [
    "retail_ds.Compra_Grande.value_counts()"
   ]
  },
  {
   "cell_type": "code",
   "execution_count": 99,
   "id": "51f66c9a-7ca9-4566-a338-c0fce916d2b5",
   "metadata": {},
   "outputs": [
    {
     "name": "stdout",
     "output_type": "stream",
     "text": [
      "<class 'pandas.core.frame.DataFrame'>\n",
      "Index: 32516 entries, 2 to 541907\n",
      "Data columns (total 10 columns):\n",
      " #   Column         Non-Null Count  Dtype  \n",
      "---  ------         --------------  -----  \n",
      " 0   InvoiceNo      32516 non-null  object \n",
      " 1   StockCode      32516 non-null  object \n",
      " 2   Description    32516 non-null  object \n",
      " 3   Quantity       32516 non-null  int64  \n",
      " 4   InvoiceDate    32516 non-null  object \n",
      " 5   UnitPrice      32516 non-null  float64\n",
      " 6   CustomerID     32516 non-null  float64\n",
      " 7   Country        32516 non-null  object \n",
      " 8   Total          32516 non-null  float64\n",
      " 9   Compra_Grande  32516 non-null  int8   \n",
      "dtypes: float64(3), int64(1), int8(1), object(5)\n",
      "memory usage: 2.5+ MB\n"
     ]
    }
   ],
   "source": [
    "retail_ds.info()"
   ]
  },
  {
   "cell_type": "code",
   "execution_count": null,
   "id": "38908356-b499-4e18-89f3-c56038f07952",
   "metadata": {},
   "outputs": [],
   "source": []
  }
 ],
 "metadata": {
  "kernelspec": {
   "display_name": "Python 3 (ipykernel)",
   "language": "python",
   "name": "python3"
  },
  "language_info": {
   "codemirror_mode": {
    "name": "ipython",
    "version": 3
   },
   "file_extension": ".py",
   "mimetype": "text/x-python",
   "name": "python",
   "nbconvert_exporter": "python",
   "pygments_lexer": "ipython3",
   "version": "3.13.5"
  }
 },
 "nbformat": 4,
 "nbformat_minor": 5
}
